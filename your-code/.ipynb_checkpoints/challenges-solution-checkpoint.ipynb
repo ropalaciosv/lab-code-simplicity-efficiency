{
 "cells": [
  {
   "cell_type": "code",
   "execution_count": null,
   "metadata": {},
   "outputs": [
    {
     "name": "stdout",
     "output_type": "stream",
     "text": [
      "Welcome to this calculator!\n",
      "It can add and subtract whole numbers from zero to five\n"
     ]
    }
   ],
   "source": [
    "# 1. dumb calculator \n",
    "def dumb_calculator():\n",
    "    print('Welcome to this calculator!')\n",
    "    print('It can add and subtract whole numbers from zero to five')\n",
    "    a = input('Please choose your first number (zero to five): ')\n",
    "    b = input('What do you want to do? plus or minus: ')\n",
    "    c = input('Please choose your second number (zero to five): ')\n",
    "\n",
    "    lista=['zero','one', 'two','three', 'four', 'five']\n",
    "    \n",
    "    set1={i:lista[i] for i in range(6)}\n",
    "    set2={lista[i]:i for i in range(6)}\n",
    "    \n",
    "    print(set1)\n",
    "    print(set2)\n",
    "    \n",
    "    if (a not in lista) or (c not in lista):\n",
    "        b = 'Check you inputs'\n",
    "    if b == 'plus':\n",
    "        ans = set1[a]+set2[c]\n",
    "    elif b == 'minus':\n",
    "        ans = set1[a]-set2[c]\n",
    "    else: \n",
    "        return (\"I am not able to answer this question. Check your input.\")\n",
    "    if ans < 0:\n",
    "        return(f\"{a} {b} {c} equals negative {set1[abs(ans)]}\")\n",
    "    elif ans >= 0:\n",
    "        return(f\"{a} {b} {c} equals {set1[(ans)]}\")\n",
    "\n",
    "dumb_calculator()"
   ]
  },
  {
   "cell_type": "code",
   "execution_count": null,
   "metadata": {},
   "outputs": [],
   "source": [
    "# 2. Random String Generator \n",
    "import random\n",
    "import sys\n",
    "def RandomStringGenerator(l=12, a=['a','b','c','d','e','f','g','h','i','j','k','l','m','n','o','p','q','r','s','t','u','v','w','x','y','z','0','1','2','3','4','5','6','7','8','9']):\n",
    "    p = 0\n",
    "    s = ''\n",
    "    while p<l:\n",
    "        s += random.choice(a)\n",
    "        p += 1\n",
    "    return s\n",
    "\n",
    "def BatchStringGenerator(n, a=8, b=12):\n",
    "    if b>a:\n",
    "        sys.exit('Incorrect min and max string lengths. Try again.')\n",
    "    elif a == b:\n",
    "            c = a\n",
    "    else:\n",
    "        return [RandomStringGenerator(random.choice(range(a,b)) for i in range(n) if a<b)]\n",
    "\n",
    "a = input('Enter minimum string length: ')\n",
    "b = input('Enter maximum string length: ')\n",
    "n = input('How many random strings to generate? ')\n",
    "\n",
    "print(BatchStringGenerator(int(n), int(a), int(b)))\n"
   ]
  },
  {
   "cell_type": "code",
   "execution_count": null,
   "metadata": {},
   "outputs": [],
   "source": [
    "# 3. Right Triangle Function\n",
    "def my_function(X):\n",
    "    m = []\n",
    "    solutions = [m.append([x, y, z]) for x in range(5,X) for y in range(4,X) for z in range(3,X) if (x*x==y*y+z*z)]\n",
    "    return max(a) \n",
    "\n",
    "X = input(\"What is the maximal length of the triangle side? Enter a number: \")\n",
    "print(\"The longest side possible is \" + str(my_function(int(X))))\n"
   ]
  }
 ],
 "metadata": {
  "kernelspec": {
   "display_name": "Python 3",
   "language": "python",
   "name": "python3"
  },
  "language_info": {
   "codemirror_mode": {
    "name": "ipython",
    "version": 3
   },
   "file_extension": ".py",
   "mimetype": "text/x-python",
   "name": "python",
   "nbconvert_exporter": "python",
   "pygments_lexer": "ipython3",
   "version": "3.7.3"
  }
 },
 "nbformat": 4,
 "nbformat_minor": 2
}
